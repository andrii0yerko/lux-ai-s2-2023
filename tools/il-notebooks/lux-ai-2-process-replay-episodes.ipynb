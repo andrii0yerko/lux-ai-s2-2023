{
 "cells": [
  {
   "cell_type": "markdown",
   "id": "99248fcb",
   "metadata": {
    "papermill": {
     "duration": 0.009064,
     "end_time": "2023-03-12T14:43:23.063933",
     "exception": false,
     "start_time": "2023-03-12T14:43:23.054869",
     "status": "completed"
    },
    "tags": []
   },
   "source": [
    "#### Reference\n",
    "\n",
    "+ [LuxAI2 Episode Scraper Match Downloader](https://www.kaggle.com/code/kuto0633/luxai2-episode-scraper-match-downloader)\n"
   ]
  },
  {
   "cell_type": "code",
   "execution_count": 1,
   "id": "3b1a0cbc",
   "metadata": {
    "_kg_hide-input": true,
    "_kg_hide-output": true,
    "execution": {
     "iopub.execute_input": "2023-03-12T14:43:23.082464Z",
     "iopub.status.busy": "2023-03-12T14:43:23.081327Z",
     "iopub.status.idle": "2023-03-12T14:44:09.859196Z",
     "shell.execute_reply": "2023-03-12T14:44:09.857825Z"
    },
    "papermill": {
     "duration": 46.789806,
     "end_time": "2023-03-12T14:44:09.861911",
     "exception": false,
     "start_time": "2023-03-12T14:43:23.072105",
     "status": "completed"
    },
    "tags": []
   },
   "outputs": [
    {
     "name": "stdout",
     "output_type": "stream",
     "text": [
      "/bin/bash: /opt/conda/lib/libtinfo.so.6: no version information available (required by /bin/bash)\r\n",
      "Python 3.7.12\r\n",
      "/bin/bash: /opt/conda/lib/libtinfo.so.6: no version information available (required by /bin/bash)\r\n",
      "Collecting luxai_s2\r\n",
      "  Downloading luxai_s2-2.1.9-py3-none-any.whl (63 kB)\r\n",
      "\u001b[2K     \u001b[90m━━━━━━━━━━━━━━━━━━━━━━━━━━━━━━━━━━━━━━━━\u001b[0m \u001b[32m63.2/63.2 kB\u001b[0m \u001b[31m2.4 MB/s\u001b[0m eta \u001b[36m0:00:00\u001b[0m\r\n",
      "\u001b[?25hRequirement already satisfied: scipy in /opt/conda/lib/python3.7/site-packages (from luxai_s2) (1.7.3)\r\n",
      "Requirement already satisfied: numpy in /opt/conda/lib/python3.7/site-packages (from luxai_s2) (1.21.6)\r\n",
      "Requirement already satisfied: termcolor in /opt/conda/lib/python3.7/site-packages (from luxai_s2) (1.1.0)\r\n",
      "Collecting vec-noise\r\n",
      "  Downloading vec_noise-1.1.4.zip (134 kB)\r\n",
      "\u001b[2K     \u001b[90m━━━━━━━━━━━━━━━━━━━━━━━━━━━━━━━━━━━━━━━\u001b[0m \u001b[32m134.1/134.1 kB\u001b[0m \u001b[31m6.2 MB/s\u001b[0m eta \u001b[36m0:00:00\u001b[0m\r\n",
      "\u001b[?25h  Preparing metadata (setup.py) ... \u001b[?25l-\b \b\\\b \bdone\r\n",
      "\u001b[?25hRequirement already satisfied: matplotlib in /opt/conda/lib/python3.7/site-packages (from luxai_s2) (3.5.3)\r\n",
      "Collecting pettingzoo\r\n",
      "  Downloading PettingZoo-1.22.3-py3-none-any.whl (816 kB)\r\n",
      "\u001b[2K     \u001b[90m━━━━━━━━━━━━━━━━━━━━━━━━━━━━━━━━━━━━━━\u001b[0m \u001b[32m816.1/816.1 kB\u001b[0m \u001b[31m22.0 MB/s\u001b[0m eta \u001b[36m0:00:00\u001b[0m\r\n",
      "\u001b[?25hCollecting pygame\r\n",
      "  Downloading pygame-2.2.0-cp37-cp37m-manylinux_2_17_x86_64.manylinux2014_x86_64.whl (13.7 MB)\r\n",
      "\u001b[2K     \u001b[90m━━━━━━━━━━━━━━━━━━━━━━━━━━━━━━━━━━━━━━━━\u001b[0m \u001b[32m13.7/13.7 MB\u001b[0m \u001b[31m48.5 MB/s\u001b[0m eta \u001b[36m0:00:00\u001b[0m\r\n",
      "\u001b[?25hCollecting gym==0.21.0\r\n",
      "  Downloading gym-0.21.0.tar.gz (1.5 MB)\r\n",
      "\u001b[2K     \u001b[90m━━━━━━━━━━━━━━━━━━━━━━━━━━━━━━━━━━━━━━━━\u001b[0m \u001b[32m1.5/1.5 MB\u001b[0m \u001b[31m67.8 MB/s\u001b[0m eta \u001b[36m0:00:00\u001b[0m\r\n",
      "\u001b[?25h  Preparing metadata (setup.py) ... \u001b[?25l-\b \bdone\r\n",
      "\u001b[?25hCollecting importlib-metadata<5.0\r\n",
      "  Downloading importlib_metadata-4.13.0-py3-none-any.whl (23 kB)\r\n",
      "Requirement already satisfied: cloudpickle>=1.2.0 in /opt/conda/lib/python3.7/site-packages (from gym==0.21.0->luxai_s2) (2.2.0)\r\n",
      "Requirement already satisfied: typing-extensions>=3.6.4 in /opt/conda/lib/python3.7/site-packages (from importlib-metadata<5.0->luxai_s2) (4.1.1)\r\n",
      "Requirement already satisfied: zipp>=0.5 in /opt/conda/lib/python3.7/site-packages (from importlib-metadata<5.0->luxai_s2) (3.8.1)\r\n",
      "Requirement already satisfied: pyparsing>=2.2.1 in /opt/conda/lib/python3.7/site-packages (from matplotlib->luxai_s2) (3.0.9)\r\n",
      "Requirement already satisfied: fonttools>=4.22.0 in /opt/conda/lib/python3.7/site-packages (from matplotlib->luxai_s2) (4.37.1)\r\n",
      "Requirement already satisfied: cycler>=0.10 in /opt/conda/lib/python3.7/site-packages (from matplotlib->luxai_s2) (0.11.0)\r\n",
      "Requirement already satisfied: kiwisolver>=1.0.1 in /opt/conda/lib/python3.7/site-packages (from matplotlib->luxai_s2) (1.4.4)\r\n",
      "Requirement already satisfied: pillow>=6.2.0 in /opt/conda/lib/python3.7/site-packages (from matplotlib->luxai_s2) (9.2.0)\r\n",
      "Requirement already satisfied: python-dateutil>=2.7 in /opt/conda/lib/python3.7/site-packages (from matplotlib->luxai_s2) (2.8.2)\r\n",
      "Requirement already satisfied: packaging>=20.0 in /opt/conda/lib/python3.7/site-packages (from matplotlib->luxai_s2) (23.0)\r\n",
      "Collecting gymnasium>=0.26.0\r\n",
      "  Downloading gymnasium-0.27.1-py3-none-any.whl (883 kB)\r\n",
      "\u001b[2K     \u001b[90m━━━━━━━━━━━━━━━━━━━━━━━━━━━━━━━━━━━━━━\u001b[0m \u001b[32m883.7/883.7 kB\u001b[0m \u001b[31m43.5 MB/s\u001b[0m eta \u001b[36m0:00:00\u001b[0m\r\n",
      "\u001b[?25hCollecting typing-extensions>=3.6.4\r\n",
      "  Downloading typing_extensions-4.5.0-py3-none-any.whl (27 kB)\r\n",
      "Collecting jax-jumpy>=0.2.0\r\n",
      "  Downloading jax_jumpy-0.2.0-py3-none-any.whl (11 kB)\r\n",
      "Collecting gymnasium-notices>=0.0.1\r\n",
      "  Downloading gymnasium_notices-0.0.1-py3-none-any.whl (2.8 kB)\r\n",
      "Requirement already satisfied: six>=1.5 in /opt/conda/lib/python3.7/site-packages (from python-dateutil>=2.7->matplotlib->luxai_s2) (1.16.0)\r\n",
      "Building wheels for collected packages: gym, vec-noise\r\n",
      "  Building wheel for gym (setup.py) ... \u001b[?25l-\b \b\\\b \b|\b \b/\b \bdone\r\n",
      "\u001b[?25h  Created wheel for gym: filename=gym-0.21.0-py3-none-any.whl size=1616827 sha256=403733c2c73eda0e1625e913d8ea29c2548e436e99a66386bb43cc3dbf4ad623\r\n",
      "  Stored in directory: /root/.cache/pip/wheels/76/ee/9c/36bfe3e079df99acf5ae57f4e3464ff2771b34447d6d2f2148\r\n",
      "  Building wheel for vec-noise (setup.py) ... \u001b[?25l-\b \b\\\b \b|\b \bdone\r\n",
      "\u001b[?25h  Created wheel for vec-noise: filename=vec_noise-1.1.4-cp37-cp37m-linux_x86_64.whl size=85819 sha256=c9e3b8244bf51ca665534f21a1b19ef7a55f29b6d348870db8ecf4a0b28b32e7\r\n",
      "  Stored in directory: /root/.cache/pip/wheels/fc/0c/19/5932b4834cf3204ed2ae845e788f07c79b3279c302d55d6fa8\r\n",
      "Successfully built gym vec-noise\r\n",
      "Installing collected packages: gymnasium-notices, vec-noise, typing-extensions, pygame, jax-jumpy, importlib-metadata, gymnasium, gym, pettingzoo, luxai_s2\r\n",
      "  Attempting uninstall: typing-extensions\r\n",
      "    Found existing installation: typing_extensions 4.1.1\r\n",
      "    Uninstalling typing_extensions-4.1.1:\r\n",
      "      Successfully uninstalled typing_extensions-4.1.1\r\n",
      "  Attempting uninstall: importlib-metadata\r\n",
      "    Found existing installation: importlib-metadata 6.0.0\r\n",
      "    Uninstalling importlib-metadata-6.0.0:\r\n",
      "      Successfully uninstalled importlib-metadata-6.0.0\r\n",
      "  Attempting uninstall: gym\r\n",
      "    Found existing installation: gym 0.26.2\r\n",
      "    Uninstalling gym-0.26.2:\r\n",
      "      Successfully uninstalled gym-0.26.2\r\n",
      "\u001b[31mERROR: pip's dependency resolver does not currently take into account all the packages that are installed. This behaviour is the source of the following dependency conflicts.\r\n",
      "thinc 8.0.17 requires typing-extensions<4.2.0,>=3.7.4.1; python_version < \"3.8\", but you have typing-extensions 4.5.0 which is incompatible.\r\n",
      "tensorflow 2.9.2 requires protobuf<3.20,>=3.9.2, but you have protobuf 3.20.3 which is incompatible.\r\n",
      "tensorflow-transform 1.10.1 requires pyarrow<7,>=6, but you have pyarrow 9.0.0 which is incompatible.\r\n",
      "tensorflow-serving-api 2.10.0 requires tensorflow<3,>=2.10.0, but you have tensorflow 2.9.2 which is incompatible.\r\n",
      "spacy 3.3.2 requires typing-extensions<4.2.0,>=3.7.4; python_version < \"3.8\", but you have typing-extensions 4.5.0 which is incompatible.\r\n",
      "pandas-profiling 3.1.0 requires markupsafe~=2.0.1, but you have markupsafe 2.1.2 which is incompatible.\r\n",
      "flake8 5.0.4 requires importlib-metadata<4.3,>=1.1.0; python_version < \"3.8\", but you have importlib-metadata 4.13.0 which is incompatible.\r\n",
      "confection 0.0.4 requires typing-extensions<4.5.0,>=3.7.4.1; python_version < \"3.8\", but you have typing-extensions 4.5.0 which is incompatible.\r\n",
      "cmudict 1.0.13 requires importlib-metadata<6.0.0,>=5.1.0, but you have importlib-metadata 4.13.0 which is incompatible.\r\n",
      "apache-beam 2.41.0 requires dill<0.3.2,>=0.3.1.1, but you have dill 0.3.6 which is incompatible.\r\n",
      "apache-beam 2.41.0 requires pyarrow<8.0.0,>=0.15.1, but you have pyarrow 9.0.0 which is incompatible.\u001b[0m\u001b[31m\r\n",
      "\u001b[0mSuccessfully installed gym-0.21.0 gymnasium-0.27.1 gymnasium-notices-0.0.1 importlib-metadata-4.13.0 jax-jumpy-0.2.0 luxai_s2-2.1.9 pettingzoo-1.22.3 pygame-2.2.0 typing-extensions-4.5.0 vec-noise-1.1.4\r\n",
      "\u001b[33mWARNING: Running pip as the 'root' user can result in broken permissions and conflicting behaviour with the system package manager. It is recommended to use a virtual environment instead: https://pip.pypa.io/warnings/venv\u001b[0m\u001b[33m\r\n",
      "\u001b[0m/bin/bash: /opt/conda/lib/libtinfo.so.6: no version information available (required by /bin/bash)\r\n",
      "Collecting gym==0.19\r\n",
      "  Downloading gym-0.19.0.tar.gz (1.6 MB)\r\n",
      "\u001b[2K     \u001b[90m━━━━━━━━━━━━━━━━━━━━━━━━━━━━━━━━━━━━━━━━\u001b[0m \u001b[32m1.6/1.6 MB\u001b[0m \u001b[31m19.9 MB/s\u001b[0m eta \u001b[36m0:00:00\u001b[0m\r\n",
      "\u001b[?25h  Preparing metadata (setup.py) ... \u001b[?25l-\b \bdone\r\n",
      "\u001b[?25hRequirement already satisfied: numpy>=1.18.0 in /opt/conda/lib/python3.7/site-packages (from gym==0.19) (1.21.6)\r\n",
      "Collecting cloudpickle<1.7.0,>=1.2.0\r\n",
      "  Downloading cloudpickle-1.6.0-py3-none-any.whl (23 kB)\r\n",
      "Building wheels for collected packages: gym\r\n",
      "  Building wheel for gym (setup.py) ... \u001b[?25l-\b \b\\\b \b|\b \b/\b \bdone\r\n",
      "\u001b[?25h  Created wheel for gym: filename=gym-0.19.0-py3-none-any.whl size=1663117 sha256=f2407a9e50d720aa95f7a7e575dd687258c6b40e4c9563080e3ed81433f0ab6f\r\n",
      "  Stored in directory: /root/.cache/pip/wheels/ef/9d/70/8bea53f7edec2fdb4f98d9d64ac9f11aea95dfcb98099d7712\r\n",
      "Successfully built gym\r\n",
      "Installing collected packages: cloudpickle, gym\r\n",
      "  Attempting uninstall: cloudpickle\r\n",
      "    Found existing installation: cloudpickle 2.2.0\r\n",
      "    Uninstalling cloudpickle-2.2.0:\r\n",
      "      Successfully uninstalled cloudpickle-2.2.0\r\n",
      "  Attempting uninstall: gym\r\n",
      "    Found existing installation: gym 0.21.0\r\n",
      "    Uninstalling gym-0.21.0:\r\n",
      "      Successfully uninstalled gym-0.21.0\r\n",
      "\u001b[31mERROR: pip's dependency resolver does not currently take into account all the packages that are installed. This behaviour is the source of the following dependency conflicts.\r\n",
      "luxai-s2 2.1.9 requires gym==0.21.0, but you have gym 0.19.0 which is incompatible.\r\n",
      "apache-beam 2.41.0 requires cloudpickle<3,>=2.1.0, but you have cloudpickle 1.6.0 which is incompatible.\r\n",
      "apache-beam 2.41.0 requires dill<0.3.2,>=0.3.1.1, but you have dill 0.3.6 which is incompatible.\r\n",
      "apache-beam 2.41.0 requires pyarrow<8.0.0,>=0.15.1, but you have pyarrow 9.0.0 which is incompatible.\u001b[0m\u001b[31m\r\n",
      "\u001b[0mSuccessfully installed cloudpickle-1.6.0 gym-0.19.0\r\n",
      "\u001b[33mWARNING: Running pip as the 'root' user can result in broken permissions and conflicting behaviour with the system package manager. It is recommended to use a virtual environment instead: https://pip.pypa.io/warnings/venv\u001b[0m\u001b[33m\r\n",
      "\u001b[0m/bin/bash: /opt/conda/lib/libtinfo.so.6: no version information available (required by /bin/bash)\r\n"
     ]
    }
   ],
   "source": [
    "# verify version\n",
    "!python --version\n",
    "!pip install --upgrade luxai_s2\n",
    "!pip install gym==0.19\n",
    "!cp -r ../input/lux-ai-season-2/* ."
   ]
  },
  {
   "cell_type": "code",
   "execution_count": 2,
   "id": "9d768dd2",
   "metadata": {
    "_kg_hide-input": true,
    "_kg_hide-output": true,
    "execution": {
     "iopub.execute_input": "2023-03-12T14:44:09.889259Z",
     "iopub.status.busy": "2023-03-12T14:44:09.888875Z",
     "iopub.status.idle": "2023-03-12T14:44:09.895931Z",
     "shell.execute_reply": "2023-03-12T14:44:09.894862Z"
    },
    "papermill": {
     "duration": 0.023658,
     "end_time": "2023-03-12T14:44:09.898105",
     "exception": false,
     "start_time": "2023-03-12T14:44:09.874447",
     "status": "completed"
    },
    "tags": []
   },
   "outputs": [
    {
     "name": "stdout",
     "output_type": "stream",
     "text": [
      "Overwriting /opt/conda/lib/python3.7/site-packages/luxai_s2/version.py\n"
     ]
    }
   ],
   "source": [
    "%%writefile /opt/conda/lib/python3.7/site-packages/luxai_s2/version.py\n",
    "__version__ = \"\"\n",
    "# this code above is used for Kaggle Notebooks\n",
    "# You might not need to run this but if you get an attribute error about the gym package, run it"
   ]
  },
  {
   "cell_type": "code",
   "execution_count": 3,
   "id": "ebff7468",
   "metadata": {
    "_cell_guid": "b1076dfc-b9ad-4769-8c92-a6c4dae69d19",
    "_kg_hide-input": true,
    "_uuid": "8f2839f25d086af736a60e9eeb907d3b93b6e0e5",
    "execution": {
     "iopub.execute_input": "2023-03-12T14:44:09.924301Z",
     "iopub.status.busy": "2023-03-12T14:44:09.923921Z",
     "iopub.status.idle": "2023-03-12T14:44:13.405520Z",
     "shell.execute_reply": "2023-03-12T14:44:13.403658Z"
    },
    "papermill": {
     "duration": 3.498054,
     "end_time": "2023-03-12T14:44:13.408295",
     "exception": false,
     "start_time": "2023-03-12T14:44:09.910241",
     "status": "completed"
    },
    "tags": []
   },
   "outputs": [],
   "source": [
    "import pandas as pd\n",
    "import numpy as np\n",
    "import requests\n",
    "import json\n",
    "import os\n",
    "from luxai_s2.env import LuxAI_S2\n",
    "import cv2\n",
    "import time\n",
    "import IPython # load the HTML replay"
   ]
  },
  {
   "cell_type": "code",
   "execution_count": 4,
   "id": "67f5f028",
   "metadata": {
    "_kg_hide-input": true,
    "execution": {
     "iopub.execute_input": "2023-03-12T14:44:13.434386Z",
     "iopub.status.busy": "2023-03-12T14:44:13.433735Z",
     "iopub.status.idle": "2023-03-12T14:44:13.440323Z",
     "shell.execute_reply": "2023-03-12T14:44:13.439159Z"
    },
    "papermill": {
     "duration": 0.021876,
     "end_time": "2023-03-12T14:44:13.442406",
     "exception": false,
     "start_time": "2023-03-12T14:44:13.420530",
     "status": "completed"
    },
    "tags": []
   },
   "outputs": [],
   "source": [
    "MATCH_DIR = '../working/'\n",
    "BASE_URL = \"https://www.kaggle.com/api/i/competitions.EpisodeService/\"    \n",
    "GET_URL = BASE_URL + \"GetEpisodeReplay\"\n"
   ]
  },
  {
   "cell_type": "code",
   "execution_count": 5,
   "id": "4f2cc11c",
   "metadata": {
    "_kg_hide-input": true,
    "execution": {
     "iopub.execute_input": "2023-03-12T14:44:13.468609Z",
     "iopub.status.busy": "2023-03-12T14:44:13.468235Z",
     "iopub.status.idle": "2023-03-12T14:44:13.477406Z",
     "shell.execute_reply": "2023-03-12T14:44:13.475698Z"
    },
    "papermill": {
     "duration": 0.025391,
     "end_time": "2023-03-12T14:44:13.480291",
     "exception": false,
     "start_time": "2023-03-12T14:44:13.454900",
     "status": "completed"
    },
    "tags": []
   },
   "outputs": [],
   "source": [
    "def save_episode(epid):\n",
    "    global match_df\n",
    "    \n",
    "    # request\n",
    "    re = requests.post(GET_URL, json = {\"episodeId\": int(epid)})\n",
    "        \n",
    "    # save replay\n",
    "    replay = re.json()\n",
    "    with open(MATCH_DIR + '{}.json'.format(epid), 'w') as f:\n",
    "        json.dump(replay, f)\n",
    "\n",
    "#     replay_url = f'https://www.kaggleusercontent.com/episodes/{epid}.json'\n",
    "\n",
    "#     # request\n",
    "#     re = requests.get(replay_url)\n",
    "        \n",
    "#     # save replay\n",
    "#     replay = re.json()\n",
    "#     with open(f'{epid}_replay.json', 'w') as f:\n",
    "#         json.dump(replay, f)\n",
    "\n",
    "#     with open(f'{epid}_replay.html', \"w\") as f:\n",
    "#         f.write(\n",
    "#                 f\"\"\"\n",
    "# <!DOCTYPE html>\n",
    "# <html lang=\"en\">\n",
    "#   <head>\n",
    "#     <meta charset=\"UTF-8\" />\n",
    "#     <link rel=\"icon\" type=\"image/svg+xml\" href=\"https://s2vis.lux-ai.org/eye.svg\" />\n",
    "#     <meta name=\"viewport\" content=\"width=device-width, initial-scale=1.0\" />\n",
    "#     <title>Lux Eye S2</title>\n",
    "#     <script>\n",
    "# window.episode = {json.dumps(replay)};\n",
    "#     </script>\n",
    "#     <script type=\"module\" crossorigin src=\"https://s2vis.lux-ai.org/index.js\"></script>\n",
    "#   </head>\n",
    "#   <body>\n",
    "#     <div id=\"root\"></div>\n",
    "#   </body>\n",
    "# </html>\n",
    "#         \"\"\".strip()\n",
    "#         )\n",
    "        \n",
    "#     with open(f'{epid}.json', \"r\") as f:\n",
    "#         episode_data = json.load(f)\n",
    "    \n",
    "#     teams = episode_data['info']['TeamNames']\n",
    "#     player_a = teams[0]\n",
    "#     player_b = teams[1]\n",
    "#     rewards = episode_data['rewards']\n",
    "#     score_a = rewards[0]\n",
    "#     score_b = rewards[1]\n",
    "#     config = episode_data['configuration']\n",
    "#     seed = config['seed']\n",
    "#     max_length = config['max_episode_length']\n",
    "#     steps = config['episodeSteps']\n",
    "#     env_cfg = config['env_cfg']\n",
    "#     max_factories = env_cfg['MAX_FACTORIES']\n",
    "#     total_water = max_factories * env_cfg['INIT_WATER_METAL_PER_FACTORY']\n",
    "#     total_metal = max_factories * env_cfg['INIT_WATER_METAL_PER_FACTORY']\n",
    "#     rw = {'epid': epid, 'seed': seed, 'player_a': player_a, 'player_b': player_b, 'score_a': score_a, 'score_b': score_b, 'max_length': max_length, 'steps': steps, 'max_factories': max_factories, 'total_water': total_water, 'total_metal': total_metal}\n",
    "#     df = pd.DataFrame([rw])\n",
    "#     df.to_csv(f'{epid}.csv', index=False)\n",
    "\n",
    "#     if match_df is None:\n",
    "#         match_df = df\n",
    "#     else:\n",
    "#         match_df = pd.concat([match_df, df])\n",
    "#     match_df.to_csv('match.csv', index=False)\n",
    "    \n",
    "#     env = LuxAI_S2()\n",
    "    \n",
    "#     obs = env.reset(seed=seed)\n",
    "    \n",
    "#     img = env.render(\"rgb_array\", width=640, height=640)\n",
    "#     cv2.imwrite(f'{epid}_map_lg.png', img)\n",
    "\n",
    "#     img = env.render(\"rgb_array\", width=48, height=48)\n",
    "#     cv2.imwrite(f'{epid}_map_sm.png', img)\n",
    "    "
   ]
  },
  {
   "cell_type": "code",
   "execution_count": 6,
   "id": "a4def508",
   "metadata": {
    "_kg_hide-input": true,
    "execution": {
     "iopub.execute_input": "2023-03-12T14:44:13.507654Z",
     "iopub.status.busy": "2023-03-12T14:44:13.506643Z",
     "iopub.status.idle": "2023-03-12T14:44:13.511586Z",
     "shell.execute_reply": "2023-03-12T14:44:13.510593Z"
    },
    "papermill": {
     "duration": 0.021463,
     "end_time": "2023-03-12T14:44:13.514011",
     "exception": false,
     "start_time": "2023-03-12T14:44:13.492548",
     "status": "completed"
    },
    "tags": []
   },
   "outputs": [],
   "source": [
    "EPID_LIST = [\n",
    "#     '46606129',\n",
    "#     '46606405',\n",
    "#     '46606496',\n",
    "#     '46606894',\n",
    "#     '46607317',\n",
    "#     '46607135',\n",
    "#     '46607499',\n",
    "#     '46607863',\n",
    "#     \"47376555\",\n",
    "#     \"47376786\",\n",
    "    \"47466451\",\n",
    "]\n"
   ]
  },
  {
   "cell_type": "code",
   "execution_count": 7,
   "id": "b44e6c6c",
   "metadata": {
    "_kg_hide-input": true,
    "execution": {
     "iopub.execute_input": "2023-03-12T14:44:13.540469Z",
     "iopub.status.busy": "2023-03-12T14:44:13.540095Z",
     "iopub.status.idle": "2023-03-12T14:44:14.896192Z",
     "shell.execute_reply": "2023-03-12T14:44:14.895288Z"
    },
    "papermill": {
     "duration": 1.372158,
     "end_time": "2023-03-12T14:44:14.898536",
     "exception": false,
     "start_time": "2023-03-12T14:44:13.526378",
     "status": "completed"
    },
    "tags": []
   },
   "outputs": [],
   "source": [
    "match_df = None\n",
    "for epid in EPID_LIST:\n",
    "    save_episode(epid)"
   ]
  },
  {
   "cell_type": "markdown",
   "id": "9999137a",
   "metadata": {
    "papermill": {
     "duration": 0.012392,
     "end_time": "2023-03-12T14:44:14.923617",
     "exception": false,
     "start_time": "2023-03-12T14:44:14.911225",
     "status": "completed"
    },
    "tags": []
   },
   "source": [
    "## Features and replay processing"
   ]
  },
  {
   "cell_type": "code",
   "execution_count": 8,
   "id": "229eda6a",
   "metadata": {
    "execution": {
     "iopub.execute_input": "2023-03-12T14:44:14.951155Z",
     "iopub.status.busy": "2023-03-12T14:44:14.950525Z",
     "iopub.status.idle": "2023-03-12T14:44:14.976232Z",
     "shell.execute_reply": "2023-03-12T14:44:14.974967Z"
    },
    "papermill": {
     "duration": 0.041479,
     "end_time": "2023-03-12T14:44:14.978458",
     "exception": false,
     "start_time": "2023-03-12T14:44:14.936979",
     "status": "completed"
    },
    "tags": []
   },
   "outputs": [],
   "source": [
    "from itertools import chain\n",
    "\n",
    "from lux.kit import process_obs, obs_to_game_state\n",
    "from lux.config import EnvConfig\n",
    "\n",
    "\n",
    "def get_unit_features(units, player, env_cfg):\n",
    "    \"\"\"\n",
    "    - ours (1 light, 2 for heavy)\n",
    "    - enemy (1 light, 2 for heavy)\n",
    "    - power\n",
    "    - cargo ice\n",
    "    - cargo ore\n",
    "    - cargo water\n",
    "    - cargo metal\n",
    "    \"\"\"\n",
    "\n",
    "    features = np.zeros((7, env_cfg.map_size, env_cfg.map_size))\n",
    "    team_id = 0 if player == \"player_0\" else 1\n",
    "\n",
    "    units = chain(units[\"player_0\"].values(), units[\"player_1\"].values())\n",
    "    for unit in units:\n",
    "        x, y = unit.pos\n",
    "        feats = [\n",
    "            (1 if unit.unit_type == \"LIGHT\" else 2) * (unit.team_id == team_id),\n",
    "            (1 if unit.unit_type == \"LIGHT\" else 2) * (unit.team_id != team_id),\n",
    "            unit.power,\n",
    "            unit.cargo.ice,\n",
    "            unit.cargo.ore,\n",
    "            unit.cargo.water,\n",
    "            unit.cargo.metal,\n",
    "        ]\n",
    "\n",
    "        features[:, x, y] = feats\n",
    "        \n",
    "    return features\n",
    "\n",
    "\n",
    "def get_factories_features(factories, player, env_cfg, game_state):\n",
    "    \"\"\"\n",
    "    - ours\n",
    "    - enemy\n",
    "    - power\n",
    "    - cargo ice\n",
    "    - cargo ore\n",
    "    - cargo water\n",
    "    - cargo metal\n",
    "    - water cost\n",
    "    \"\"\"\n",
    "\n",
    "    features = np.zeros((8, env_cfg.map_size, env_cfg.map_size))\n",
    "    team_id = 0 if player == \"player_0\" else 1\n",
    "\n",
    "    factories = chain(factories[\"player_0\"].values(), factories[\"player_1\"].values())\n",
    "    for unit in factories:\n",
    "        x, y = unit.pos_slice\n",
    "        feats = [\n",
    "            (unit.team_id == team_id),\n",
    "            (unit.team_id != team_id),\n",
    "            unit.power,\n",
    "            unit.cargo.ice,\n",
    "            unit.cargo.ore,\n",
    "            unit.cargo.water,\n",
    "            unit.cargo.metal,\n",
    "            unit.water_cost(game_state),\n",
    "        ]\n",
    "\n",
    "        features[:, x, y] = np.array(feats).reshape(-1, 1, 1)\n",
    "        \n",
    "    return features\n",
    "\n",
    "\n",
    "def get_features(game_state, player, env_cfg):\n",
    "    return np.vstack(\n",
    "        [\n",
    "            game_state.board.rubble[np.newaxis],\n",
    "            game_state.board.ice[np.newaxis],\n",
    "            game_state.board.ore[np.newaxis],\n",
    "            game_state.board.lichen[np.newaxis],\n",
    "            np.ones((1, env_cfg.map_size, env_cfg.map_size)) * game_state.real_env_steps,\n",
    "            np.ones((1, env_cfg.map_size, env_cfg.map_size)) * (game_state.real_env_steps % 50),  # day-night cycle\n",
    "            get_factories_features(game_state.factories, player, env_cfg, game_state),\n",
    "            get_unit_features(game_state.units, player, env_cfg),\n",
    "        ]\n",
    "    )"
   ]
  },
  {
   "cell_type": "code",
   "execution_count": 9,
   "id": "9d23746a",
   "metadata": {
    "execution": {
     "iopub.execute_input": "2023-03-12T14:44:15.004548Z",
     "iopub.status.busy": "2023-03-12T14:44:15.004183Z",
     "iopub.status.idle": "2023-03-12T14:44:16.805304Z",
     "shell.execute_reply": "2023-03-12T14:44:16.803600Z"
    },
    "papermill": {
     "duration": 1.817884,
     "end_time": "2023-03-12T14:44:16.808611",
     "exception": false,
     "start_time": "2023-03-12T14:44:14.990727",
     "status": "completed"
    },
    "tags": []
   },
   "outputs": [],
   "source": [
    "from copy import deepcopy\n",
    "\n",
    "with open(\"47466451.json\") as f:\n",
    "    match = json.load(f)\n",
    "    \n",
    "team_name = \"Deimos\"\n",
    "\n",
    "player = \"player_0\" if match[\"info\"][\"TeamNames\"][0] == team_name else \"player_1\"\n",
    "player_id = 0 if match[\"info\"][\"TeamNames\"][0] == team_name else 1\n",
    "\n",
    "    \n",
    "env_cfg = EnvConfig.from_dict(match[\"configuration\"][\"env_cfg\"].copy())\n",
    "\n",
    "actions_lst = []\n",
    "units_lst = []\n",
    "prev_obs = {}\n",
    "for game_step in match[\"steps\"]:\n",
    "    observation = game_step[0][\"observation\"]\n",
    "    actions = game_step[player_id][\"action\"]\n",
    "\n",
    "    step = observation[\"step\"]\n",
    "    obs = json.loads(observation[\"obs\"])\n",
    "    \n",
    "    obs = process_obs(player, prev_obs, step, obs)\n",
    "    game_state = obs_to_game_state(step, env_cfg, obs)\n",
    "    if game_state.real_env_steps < 0:  # early setup\n",
    "        pass\n",
    "    else:  # main game\n",
    "#         get_features(game_state, player, env_cfg)\n",
    "#         actions_lst.append(actions)\n",
    "        pass\n",
    "    actions_lst.append(actions)\n",
    "    units_lst.append(game_state.units[player])\n",
    "    prev_obs = obs"
   ]
  },
  {
   "cell_type": "markdown",
   "id": "2b5ee88c",
   "metadata": {
    "papermill": {
     "duration": 0.011793,
     "end_time": "2023-03-12T14:44:16.832731",
     "exception": false,
     "start_time": "2023-03-12T14:44:16.820938",
     "status": "completed"
    },
    "tags": []
   },
   "source": [
    "## Try to construct the action space"
   ]
  },
  {
   "cell_type": "code",
   "execution_count": 10,
   "id": "3a64132e",
   "metadata": {
    "execution": {
     "iopub.execute_input": "2023-03-12T14:44:16.858713Z",
     "iopub.status.busy": "2023-03-12T14:44:16.858374Z",
     "iopub.status.idle": "2023-03-12T14:44:16.871176Z",
     "shell.execute_reply": "2023-03-12T14:44:16.869327Z"
    },
    "papermill": {
     "duration": 0.028718,
     "end_time": "2023-03-12T14:44:16.873767",
     "exception": false,
     "start_time": "2023-03-12T14:44:16.845049",
     "status": "completed"
    },
    "tags": []
   },
   "outputs": [],
   "source": [
    "factories_actions = []\n",
    "units_actions = []\n",
    "\n",
    "for i, x  in enumerate(actions_lst):\n",
    "    for k, v in x.items():\n",
    "        if k.startswith(\"factory\"):\n",
    "            factories_actions.append((i, k, v))\n",
    "        elif k.startswith(\"unit\"):\n",
    "#             if k not in u:\n",
    "#                 print(i, k)\n",
    "#                 continue\n",
    "            units_actions.append((i, k, v))"
   ]
  },
  {
   "cell_type": "code",
   "execution_count": 11,
   "id": "a46d5519",
   "metadata": {
    "execution": {
     "iopub.execute_input": "2023-03-12T14:44:16.900077Z",
     "iopub.status.busy": "2023-03-12T14:44:16.899706Z",
     "iopub.status.idle": "2023-03-12T14:44:16.925589Z",
     "shell.execute_reply": "2023-03-12T14:44:16.924320Z"
    },
    "papermill": {
     "duration": 0.041458,
     "end_time": "2023-03-12T14:44:16.927593",
     "exception": false,
     "start_time": "2023-03-12T14:44:16.886135",
     "status": "completed"
    },
    "tags": []
   },
   "outputs": [
    {
     "data": {
      "text/plain": [
       "water          1142\n",
       "build_heavy      15\n",
       "build_light       9\n",
       "Name: 2, dtype: int64"
      ]
     },
     "execution_count": 11,
     "metadata": {},
     "output_type": "execute_result"
    }
   ],
   "source": [
    "factory_action_mapping= {\n",
    "    0: \"build_light\",\n",
    "    1: \"build_heavy\",\n",
    "    2: \"water\"\n",
    "}\n",
    "pd.DataFrame(factories_actions)[2].map(factory_action_mapping).value_counts()"
   ]
  },
  {
   "cell_type": "code",
   "execution_count": 12,
   "id": "56a7e084",
   "metadata": {
    "execution": {
     "iopub.execute_input": "2023-03-12T14:44:16.953750Z",
     "iopub.status.busy": "2023-03-12T14:44:16.953423Z",
     "iopub.status.idle": "2023-03-12T14:44:16.957828Z",
     "shell.execute_reply": "2023-03-12T14:44:16.956744Z"
    },
    "papermill": {
     "duration": 0.020213,
     "end_time": "2023-03-12T14:44:16.959993",
     "exception": false,
     "start_time": "2023-03-12T14:44:16.939780",
     "status": "completed"
    },
    "tags": []
   },
   "outputs": [],
   "source": [
    "from lux.unit import Unit"
   ]
  },
  {
   "cell_type": "code",
   "execution_count": 13,
   "id": "ce7c4689",
   "metadata": {
    "execution": {
     "iopub.execute_input": "2023-03-12T14:44:16.987622Z",
     "iopub.status.busy": "2023-03-12T14:44:16.987244Z",
     "iopub.status.idle": "2023-03-12T14:44:16.994429Z",
     "shell.execute_reply": "2023-03-12T14:44:16.993009Z"
    },
    "papermill": {
     "duration": 0.023775,
     "end_time": "2023-03-12T14:44:16.996646",
     "exception": false,
     "start_time": "2023-03-12T14:44:16.972871",
     "status": "completed"
    },
    "tags": []
   },
   "outputs": [],
   "source": [
    "resource_mapping = {\n",
    "    0: \"ice\",\n",
    "    1: \"ore\",\n",
    "    2: \"water\",\n",
    "    3: \"metal\",\n",
    "    4: \"power\",\n",
    "}\n",
    "\n",
    "direction_mapping = {0: \"center\", 1: \"up\", 2: \"right\", 3: \"down\", 4: \"left\"}\n",
    "\n",
    "action_map = {\n",
    "    0: \"move\",\n",
    "    1: \"transfer\",\n",
    "    2: \"pickup\",\n",
    "    3: \"dig\",\n",
    "    4: \"self_destruct\",\n",
    "    5: \"recharge\",\n",
    "}\n",
    "\n",
    "repeat_mapping = {0: \"nonrepeat\", 1: \"repeat\"}"
   ]
  },
  {
   "cell_type": "code",
   "execution_count": 14,
   "id": "a9e2dd92",
   "metadata": {
    "execution": {
     "iopub.execute_input": "2023-03-12T14:44:17.023140Z",
     "iopub.status.busy": "2023-03-12T14:44:17.022691Z",
     "iopub.status.idle": "2023-03-12T14:44:17.031599Z",
     "shell.execute_reply": "2023-03-12T14:44:17.030211Z"
    },
    "papermill": {
     "duration": 0.024365,
     "end_time": "2023-03-12T14:44:17.033545",
     "exception": true,
     "start_time": "2023-03-12T14:44:17.009180",
     "status": "failed"
    },
    "tags": []
   },
   "outputs": [
    {
     "ename": "SyntaxError",
     "evalue": "invalid syntax (2781613192.py, line 4)",
     "output_type": "error",
     "traceback": [
      "\u001b[0;36m  File \u001b[0;32m\"/tmp/ipykernel_21/2781613192.py\"\u001b[0;36m, line \u001b[0;32m4\u001b[0m\n\u001b[0;31m    - transfer (direction=1/2/3/4, resource=0/1/2/3/4, amount=?, repeat=0)\u001b[0m\n\u001b[0m                                                              ^\u001b[0m\n\u001b[0;31mSyntaxError\u001b[0m\u001b[0;31m:\u001b[0m invalid syntax\n"
     ]
    }
   ],
   "source": [
    "# action space\n",
    "- recharge (direction=0, resource=0, amount=3000 if heavy else 150, repeat=0)\n",
    "- move (direction=1/2/3/4, resource=0, amount=0, repeat=0/1)\n",
    "- transfer (direction=1/2/3/4, resource=0/1/2/3/4, amount=?, repeat=0)\n",
    "- dig (direction=0, resource=0, amount=0, repeat=0/1)\n",
    "- pickup (direction=0, resource=0/1/2/3/4, amount=?, repeat=0)\n"
   ]
  },
  {
   "cell_type": "code",
   "execution_count": null,
   "id": "b46c3579",
   "metadata": {
    "execution": {
     "iopub.execute_input": "2023-03-12T14:41:09.970074Z",
     "iopub.status.busy": "2023-03-12T14:41:09.969412Z",
     "iopub.status.idle": "2023-03-12T14:41:09.982067Z",
     "shell.execute_reply": "2023-03-12T14:41:09.980494Z",
     "shell.execute_reply.started": "2023-03-12T14:41:09.970035Z"
    },
    "papermill": {
     "duration": null,
     "end_time": null,
     "exception": null,
     "start_time": null,
     "status": "pending"
    },
    "tags": []
   },
   "outputs": [],
   "source": [
    "from itertools import product\n",
    "\n",
    "\n",
    "action_space = {}\n",
    "\n",
    "prefix = \"move\"\n",
    "for (arg1, arg1_name), (arg2, arg2_name) in product(direction_mapping.items(), repeat_mapping.items()):\n",
    "    action_space[\"_\".join([prefix, arg1_name, arg2_name])] = getattr(Unit, prefix)(None, arg1, arg2)\n",
    "    \n",
    "prefix = \"transfer\"\n",
    "for (arg1, arg1_name), (arg2, arg2_name) in product(direction_mapping.items(), resource_mapping.items()):\n",
    "    action_space[\"_\".join([prefix, arg1_name, arg2_name])] = getattr(Unit, prefix)(None, arg1, arg2, 0)\n",
    "    \n",
    "prefix = \"pickup\"\n",
    "for (arg2, arg2_name), in product(resource_mapping.items()):\n",
    "    action_space[\"_\".join([prefix, arg2_name])] = getattr(Unit, prefix)(None, arg2, 0)\n",
    "    \n",
    "prefix = \"dig\"\n",
    "for (arg2, arg2_name), in product(repeat_mapping.items()):\n",
    "    action_space[\"_\".join([prefix, arg2_name])] = getattr(Unit, prefix)(None, arg2)\n",
    "    \n",
    "prefix = \"recharge\"\n",
    "for (arg2, arg2_name), in product(repeat_mapping.items()):\n",
    "    action_space[\"_\".join([prefix, arg2_name])] = getattr(Unit, prefix)(None, 0, arg2)\n",
    "    \n",
    "action_space[\"self_destruct\"] = getattr(Unit, \"self_destruct\")(None)"
   ]
  },
  {
   "cell_type": "code",
   "execution_count": null,
   "id": "263c6eaa",
   "metadata": {
    "execution": {
     "iopub.execute_input": "2023-03-12T14:41:10.973834Z",
     "iopub.status.busy": "2023-03-12T14:41:10.973396Z",
     "iopub.status.idle": "2023-03-12T14:41:10.979723Z",
     "shell.execute_reply": "2023-03-12T14:41:10.978258Z",
     "shell.execute_reply.started": "2023-03-12T14:41:10.973795Z"
    },
    "papermill": {
     "duration": null,
     "end_time": null,
     "exception": null,
     "start_time": null,
     "status": "pending"
    },
    "tags": []
   },
   "outputs": [],
   "source": [
    "rev_action_space = dict(zip(map(tuple, action_space.values()), action_space.keys()))"
   ]
  },
  {
   "cell_type": "markdown",
   "id": "12953de9",
   "metadata": {
    "papermill": {
     "duration": null,
     "end_time": null,
     "exception": null,
     "start_time": null,
     "status": "pending"
    },
    "tags": []
   },
   "source": [
    "## EDA"
   ]
  },
  {
   "cell_type": "code",
   "execution_count": null,
   "id": "5e75653f",
   "metadata": {
    "execution": {
     "iopub.execute_input": "2023-03-12T14:42:12.855378Z",
     "iopub.status.busy": "2023-03-12T14:42:12.854872Z",
     "iopub.status.idle": "2023-03-12T14:42:13.918377Z",
     "shell.execute_reply": "2023-03-12T14:42:13.917155Z",
     "shell.execute_reply.started": "2023-03-12T14:42:12.855333Z"
    },
    "papermill": {
     "duration": null,
     "end_time": null,
     "exception": null,
     "start_time": null,
     "status": "pending"
    },
    "tags": []
   },
   "outputs": [],
   "source": [
    "\n",
    "\n",
    "df = pd.DataFrame(units_actions)\n",
    "df.columns = [\"step\", \"unit_id\", \"action_\",]\n",
    "acts = df[\"action_\"].apply(lambda x: x[0]).apply(pd.Series)\n",
    "acts.columns = [\"action\", \"direction\", \"resource\", \"amount\", \"repeat\", \"n\"]\n",
    "df = pd.concat([df, acts], axis=1, ignore_index=False)\n",
    "\n",
    "df[\"action_text\"] = df[\"action\"].map(action_map)\n",
    "# df[\"resource_text\"] = "
   ]
  },
  {
   "cell_type": "code",
   "execution_count": null,
   "id": "d27f4263",
   "metadata": {
    "execution": {
     "iopub.execute_input": "2023-03-12T14:42:13.920594Z",
     "iopub.status.busy": "2023-03-12T14:42:13.920191Z",
     "iopub.status.idle": "2023-03-12T14:42:13.992231Z",
     "shell.execute_reply": "2023-03-12T14:42:13.990988Z",
     "shell.execute_reply.started": "2023-03-12T14:42:13.920559Z"
    },
    "papermill": {
     "duration": null,
     "end_time": null,
     "exception": null,
     "start_time": null,
     "status": "pending"
    },
    "tags": []
   },
   "outputs": [],
   "source": [
    "units_rows = []\n",
    "\n",
    "for i, u in enumerate(units_lst):\n",
    "    for k, v in u.items():\n",
    "        units_rows.append(\n",
    "            {\n",
    "                \"step\": i,\n",
    "                \"unit_id\": k,\n",
    "                \"unit\": v\n",
    "            }\n",
    "        )\n",
    "\n",
    "units_df = pd.DataFrame(units_rows)\n",
    "        \n",
    "units_df[\"cargo.ice\"] = units_df[\"unit\"].apply(lambda x: x.cargo.ice)\n",
    "units_df[\"cargo.ore\"] = units_df[\"unit\"].apply(lambda x: x.cargo.ore)\n",
    "units_df[\"cargo.water\"] = units_df[\"unit\"].apply(lambda x: x.cargo.water)\n",
    "units_df[\"cargo.metal\"] = units_df[\"unit\"].apply(lambda x: x.cargo.metal)\n",
    "units_df[\"power\"] = units_df[\"unit\"].apply(lambda x: x.power)\n"
   ]
  },
  {
   "cell_type": "code",
   "execution_count": null,
   "id": "c3e5fd06",
   "metadata": {
    "execution": {
     "iopub.execute_input": "2023-03-12T14:42:13.994323Z",
     "iopub.status.busy": "2023-03-12T14:42:13.993910Z",
     "iopub.status.idle": "2023-03-12T14:42:14.010515Z",
     "shell.execute_reply": "2023-03-12T14:42:14.009346Z",
     "shell.execute_reply.started": "2023-03-12T14:42:13.994262Z"
    },
    "papermill": {
     "duration": null,
     "end_time": null,
     "exception": null,
     "start_time": null,
     "status": "pending"
    },
    "tags": []
   },
   "outputs": [],
   "source": [
    "df = units_df.merge(df, on=[\"step\", \"unit_id\"], how=\"left\")"
   ]
  },
  {
   "cell_type": "code",
   "execution_count": null,
   "id": "185cb4dd",
   "metadata": {
    "execution": {
     "iopub.execute_input": "2023-03-12T14:41:50.517807Z",
     "iopub.status.busy": "2023-03-12T14:41:50.517376Z",
     "iopub.status.idle": "2023-03-12T14:41:50.553567Z",
     "shell.execute_reply": "2023-03-12T14:41:50.552344Z",
     "shell.execute_reply.started": "2023-03-12T14:41:50.517773Z"
    },
    "papermill": {
     "duration": null,
     "end_time": null,
     "exception": null,
     "start_time": null,
     "status": "pending"
    },
    "tags": []
   },
   "outputs": [],
   "source": [
    "def to_label_key(x):\n",
    "    x = x[0].copy()\n",
    "    x[3] = 0\n",
    "    return tuple(x)\n",
    "\n",
    "x = df[\"action_\"].dropna().apply(to_label_key).map(rev_action_space).value_counts()"
   ]
  },
  {
   "cell_type": "code",
   "execution_count": null,
   "id": "5bcf1f59",
   "metadata": {
    "execution": {
     "iopub.execute_input": "2023-03-12T14:42:55.726589Z",
     "iopub.status.busy": "2023-03-12T14:42:55.726102Z",
     "iopub.status.idle": "2023-03-12T14:42:55.735925Z",
     "shell.execute_reply": "2023-03-12T14:42:55.734583Z",
     "shell.execute_reply.started": "2023-03-12T14:42:55.726550Z"
    },
    "papermill": {
     "duration": null,
     "end_time": null,
     "exception": null,
     "start_time": null,
     "status": "pending"
    },
    "tags": []
   },
   "outputs": [],
   "source": [
    "x"
   ]
  },
  {
   "cell_type": "code",
   "execution_count": null,
   "id": "7d66e5cb",
   "metadata": {
    "execution": {
     "iopub.execute_input": "2023-03-08T19:13:03.644908Z",
     "iopub.status.busy": "2023-03-08T19:13:03.644525Z",
     "iopub.status.idle": "2023-03-08T19:13:03.688101Z",
     "shell.execute_reply": "2023-03-08T19:13:03.687073Z",
     "shell.execute_reply.started": "2023-03-08T19:13:03.644878Z"
    },
    "papermill": {
     "duration": null,
     "end_time": null,
     "exception": null,
     "start_time": null,
     "status": "pending"
    },
    "scrolled": true,
    "tags": []
   },
   "outputs": [],
   "source": [
    "df[(df[\"action_text\"] == \"transfer\")& (df[\"resource\"] != 0) & (df[\"amount\"] > 0)]"
   ]
  },
  {
   "cell_type": "code",
   "execution_count": null,
   "id": "5bd19ee6",
   "metadata": {
    "execution": {
     "iopub.execute_input": "2023-03-08T19:13:15.194886Z",
     "iopub.status.busy": "2023-03-08T19:13:15.194183Z",
     "iopub.status.idle": "2023-03-08T19:13:15.201904Z",
     "shell.execute_reply": "2023-03-08T19:13:15.200496Z",
     "shell.execute_reply.started": "2023-03-08T19:13:15.194831Z"
    },
    "papermill": {
     "duration": null,
     "end_time": null,
     "exception": null,
     "start_time": null,
     "status": "pending"
    },
    "tags": []
   },
   "outputs": [],
   "source": [
    "df[\"resource_text\"] = None"
   ]
  },
  {
   "cell_type": "code",
   "execution_count": null,
   "id": "d862ff65",
   "metadata": {
    "execution": {
     "iopub.execute_input": "2023-03-08T19:13:15.434254Z",
     "iopub.status.busy": "2023-03-08T19:13:15.433853Z",
     "iopub.status.idle": "2023-03-08T19:13:15.445125Z",
     "shell.execute_reply": "2023-03-08T19:13:15.444146Z",
     "shell.execute_reply.started": "2023-03-08T19:13:15.434223Z"
    },
    "papermill": {
     "duration": null,
     "end_time": null,
     "exception": null,
     "start_time": null,
     "status": "pending"
    },
    "tags": []
   },
   "outputs": [],
   "source": [
    "df.loc[df[\"action_text\"].isin([\"pickup\", \"transfer\"]), \"resource_text\"] = \\\n",
    "    df.loc[df[\"action_text\"].isin([\"pickup\", \"transfer\"]),\"resource\"].map(resource_mapping)"
   ]
  },
  {
   "cell_type": "code",
   "execution_count": null,
   "id": "58b11f38",
   "metadata": {
    "papermill": {
     "duration": null,
     "end_time": null,
     "exception": null,
     "start_time": null,
     "status": "pending"
    },
    "tags": []
   },
   "outputs": [],
   "source": []
  },
  {
   "cell_type": "code",
   "execution_count": null,
   "id": "9da1a0ab",
   "metadata": {
    "execution": {
     "iopub.execute_input": "2023-03-08T19:15:07.608617Z",
     "iopub.status.busy": "2023-03-08T19:15:07.608184Z",
     "iopub.status.idle": "2023-03-08T19:15:07.691191Z",
     "shell.execute_reply": "2023-03-08T19:15:07.689719Z",
     "shell.execute_reply.started": "2023-03-08T19:15:07.608579Z"
    },
    "papermill": {
     "duration": null,
     "end_time": null,
     "exception": null,
     "start_time": null,
     "status": "pending"
    },
    "tags": []
   },
   "outputs": [],
   "source": [
    "unit_6 = df[df[\"unit_id\"] == \"unit_12\"].reset_index(drop=True)\n",
    "\n",
    "idx = unit_6[unit_6[\"action_text\"] == \"transfer\"].index\n",
    "lst = sorted({*idx, *(idx+1)})\n",
    "\n",
    "unit_6.loc[lst].head(40)"
   ]
  },
  {
   "cell_type": "code",
   "execution_count": null,
   "id": "360d3d36",
   "metadata": {
    "execution": {
     "iopub.execute_input": "2023-03-07T22:17:48.339765Z",
     "iopub.status.busy": "2023-03-07T22:17:48.339297Z",
     "iopub.status.idle": "2023-03-07T22:17:48.353875Z",
     "shell.execute_reply": "2023-03-07T22:17:48.352827Z",
     "shell.execute_reply.started": "2023-03-07T22:17:48.339729Z"
    },
    "papermill": {
     "duration": null,
     "end_time": null,
     "exception": null,
     "start_time": null,
     "status": "pending"
    },
    "tags": []
   },
   "outputs": [],
   "source": [
    "df[\"action\"].map(action_map).value_counts()"
   ]
  },
  {
   "cell_type": "code",
   "execution_count": null,
   "id": "034ba5e2",
   "metadata": {
    "execution": {
     "iopub.execute_input": "2023-03-07T12:21:07.566154Z",
     "iopub.status.busy": "2023-03-07T12:21:07.565772Z",
     "iopub.status.idle": "2023-03-07T12:21:07.575998Z",
     "shell.execute_reply": "2023-03-07T12:21:07.574670Z",
     "shell.execute_reply.started": "2023-03-07T12:21:07.566121Z"
    },
    "papermill": {
     "duration": null,
     "end_time": null,
     "exception": null,
     "start_time": null,
     "status": "pending"
    },
    "tags": []
   },
   "outputs": [],
   "source": [
    "df[\"repeat\"].value_counts()"
   ]
  },
  {
   "cell_type": "code",
   "execution_count": null,
   "id": "1290c4e1",
   "metadata": {
    "execution": {
     "iopub.execute_input": "2023-03-07T12:21:38.640669Z",
     "iopub.status.busy": "2023-03-07T12:21:38.640277Z",
     "iopub.status.idle": "2023-03-07T12:21:38.650831Z",
     "shell.execute_reply": "2023-03-07T12:21:38.649219Z",
     "shell.execute_reply.started": "2023-03-07T12:21:38.640633Z"
    },
    "papermill": {
     "duration": null,
     "end_time": null,
     "exception": null,
     "start_time": null,
     "status": "pending"
    },
    "tags": []
   },
   "outputs": [],
   "source": [
    "df.loc[df[\"repeat\"] == 1, \"action\"].map(action_map).value_counts()"
   ]
  },
  {
   "cell_type": "code",
   "execution_count": null,
   "id": "6f453b1f",
   "metadata": {
    "execution": {
     "iopub.execute_input": "2023-03-07T12:21:52.437602Z",
     "iopub.status.busy": "2023-03-07T12:21:52.437197Z",
     "iopub.status.idle": "2023-03-07T12:21:52.447081Z",
     "shell.execute_reply": "2023-03-07T12:21:52.446285Z",
     "shell.execute_reply.started": "2023-03-07T12:21:52.437570Z"
    },
    "papermill": {
     "duration": null,
     "end_time": null,
     "exception": null,
     "start_time": null,
     "status": "pending"
    },
    "tags": []
   },
   "outputs": [],
   "source": [
    "df.loc[df[\"repeat\"] == 0, \"action\"].map(action_map).value_counts()"
   ]
  },
  {
   "cell_type": "code",
   "execution_count": null,
   "id": "e7f5c0d2",
   "metadata": {
    "execution": {
     "iopub.execute_input": "2023-03-07T12:24:00.781682Z",
     "iopub.status.busy": "2023-03-07T12:24:00.781346Z",
     "iopub.status.idle": "2023-03-07T12:24:00.791766Z",
     "shell.execute_reply": "2023-03-07T12:24:00.790174Z",
     "shell.execute_reply.started": "2023-03-07T12:24:00.781652Z"
    },
    "papermill": {
     "duration": null,
     "end_time": null,
     "exception": null,
     "start_time": null,
     "status": "pending"
    },
    "tags": []
   },
   "outputs": [],
   "source": [
    "df.loc[df[\"action\"] == 5, \"amount\"].value_counts()"
   ]
  },
  {
   "cell_type": "code",
   "execution_count": null,
   "id": "a76a0252",
   "metadata": {
    "execution": {
     "iopub.execute_input": "2023-03-07T12:36:22.841045Z",
     "iopub.status.busy": "2023-03-07T12:36:22.840623Z",
     "iopub.status.idle": "2023-03-07T12:36:22.853262Z",
     "shell.execute_reply": "2023-03-07T12:36:22.851527Z",
     "shell.execute_reply.started": "2023-03-07T12:36:22.840989Z"
    },
    "papermill": {
     "duration": null,
     "end_time": null,
     "exception": null,
     "start_time": null,
     "status": "pending"
    },
    "tags": []
   },
   "outputs": [],
   "source": [
    "df[df[\"action_text\"] == \"pickup\"][\"resource\"].value_counts()"
   ]
  },
  {
   "cell_type": "code",
   "execution_count": null,
   "id": "dee1e30f",
   "metadata": {
    "execution": {
     "iopub.execute_input": "2023-03-07T12:36:06.113988Z",
     "iopub.status.busy": "2023-03-07T12:36:06.113560Z",
     "iopub.status.idle": "2023-03-07T12:36:06.132366Z",
     "shell.execute_reply": "2023-03-07T12:36:06.131361Z",
     "shell.execute_reply.started": "2023-03-07T12:36:06.113952Z"
    },
    "papermill": {
     "duration": null,
     "end_time": null,
     "exception": null,
     "start_time": null,
     "status": "pending"
    },
    "tags": []
   },
   "outputs": [],
   "source": [
    "df[df[\"action_text\"] == \"pickup\"].sample(20)"
   ]
  },
  {
   "cell_type": "code",
   "execution_count": null,
   "id": "a1448dda",
   "metadata": {
    "papermill": {
     "duration": null,
     "end_time": null,
     "exception": null,
     "start_time": null,
     "status": "pending"
    },
    "tags": []
   },
   "outputs": [],
   "source": []
  }
 ],
 "metadata": {
  "kernelspec": {
   "display_name": "Python 3",
   "language": "python",
   "name": "python3"
  },
  "language_info": {
   "codemirror_mode": {
    "name": "ipython",
    "version": 3
   },
   "file_extension": ".py",
   "mimetype": "text/x-python",
   "name": "python",
   "nbconvert_exporter": "python",
   "pygments_lexer": "ipython3",
   "version": "3.7.12"
  },
  "papermill": {
   "default_parameters": {},
   "duration": 64.329017,
   "end_time": "2023-03-12T14:44:18.172105",
   "environment_variables": {},
   "exception": true,
   "input_path": "__notebook__.ipynb",
   "output_path": "__notebook__.ipynb",
   "parameters": {},
   "start_time": "2023-03-12T14:43:13.843088",
   "version": "2.3.4"
  }
 },
 "nbformat": 4,
 "nbformat_minor": 5
}
